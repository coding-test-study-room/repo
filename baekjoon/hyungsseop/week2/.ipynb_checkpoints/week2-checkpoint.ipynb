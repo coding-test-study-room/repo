{
 "cells": [
  {
   "cell_type": "code",
   "execution_count": 88,
   "id": "c9847a3e",
   "metadata": {},
   "outputs": [],
   "source": [
    "import random\n",
    "\n",
    "a = 3\n",
    "b = [1,2,3]\n",
    "check_list = []\n",
    "check_len = []\n",
    "\n",
    "def Q3(a,b):\n",
    "    b.sort()\n",
    "    answer = [0 for i in range(len(b)*2)]\n",
    "    \n",
    "    if max(b) > len(b):\n",
    "        return -1\n",
    "    \n",
    "    t = 0\n",
    "    for i in b:\n",
    "        temp = []\n",
    "        for j in range(len(b)*2 - i-1):\n",
    "            check_list.append([j,j+i+1])\n",
    "            temp.append(t)\n",
    "            t += 1\n",
    "        check_len.append(temp)\n",
    "\n",
    "    while(1):\n",
    "        answer = []\n",
    "        for i in range(len(check_len)):\n",
    "            answer.append(check_list[(random.randrange(min(check_len[i]),max(check_len[i])))])\n",
    "        if len(set(sum(answer,[]))) == len(b):\n",
    "            return answer"
   ]
  },
  {
   "cell_type": "code",
   "execution_count": null,
   "id": "7626afdc",
   "metadata": {},
   "outputs": [],
   "source": []
  }
 ],
 "metadata": {
  "kernelspec": {
   "display_name": "Python 3 (ipykernel)",
   "language": "python",
   "name": "python3"
  },
  "language_info": {
   "codemirror_mode": {
    "name": "ipython",
    "version": 3
   },
   "file_extension": ".py",
   "mimetype": "text/x-python",
   "name": "python",
   "nbconvert_exporter": "python",
   "pygments_lexer": "ipython3",
   "version": "3.8.15"
  }
 },
 "nbformat": 4,
 "nbformat_minor": 5
}
