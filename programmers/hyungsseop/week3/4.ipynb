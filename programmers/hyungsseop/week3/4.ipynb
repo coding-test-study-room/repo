{
 "cells": [
  {
   "cell_type": "code",
   "execution_count": 26,
   "id": "c040e4eb",
   "metadata": {},
   "outputs": [],
   "source": [
    "queue1 = [1,1]\n",
    "queue2 = [1,5]"
   ]
  },
  {
   "cell_type": "code",
   "execution_count": 27,
   "id": "3c7c2ff1",
   "metadata": {},
   "outputs": [],
   "source": [
    "def solution(queue1, queue2):\n",
    "    answer = 0\n",
    "    max_val = max(queue1+queue2)\n",
    "    \n",
    "    org_que = queue1\n",
    "    \n",
    "    val = int(sum(queue1 + queue2) / 2)\n",
    "\n",
    "    if max_val > val:\n",
    "        return -1\n",
    "    \n",
    "    while(sum(queue1) != val):\n",
    "        if sum(queue1) > val:\n",
    "            tmp = queue1.pop(0)\n",
    "            queue2.append(tmp)\n",
    "            answer += 1\n",
    "        elif sum(queue2) > val:\n",
    "            tmp = queue2.pop(0)\n",
    "            queue1.append(tmp)\n",
    "            answer += 1\n",
    "        \n",
    "        elif org_que == queue1:\n",
    "            return -1\n",
    "    return answer"
   ]
  },
  {
   "cell_type": "code",
   "execution_count": 28,
   "id": "07771fd2",
   "metadata": {},
   "outputs": [
    {
     "data": {
      "text/plain": [
       "-1"
      ]
     },
     "execution_count": 28,
     "metadata": {},
     "output_type": "execute_result"
    }
   ],
   "source": [
    "solution(queue1, queue2)"
   ]
  },
  {
   "cell_type": "code",
   "execution_count": 25,
   "id": "e6048d57",
   "metadata": {},
   "outputs": [],
   "source": [
    "val = int(sum(queue1 + queue2) / 2)"
   ]
  },
  {
   "cell_type": "code",
   "execution_count": 13,
   "id": "a9a96e5b",
   "metadata": {},
   "outputs": [
    {
     "name": "stdout",
     "output_type": "stream",
     "text": [
      "queue1 :  [3, 2, 7, 2, 4]\n",
      "queue2 :  [6, 5, 1]\n",
      "queue1 :  [2, 7, 2, 4]\n",
      "queue2 :  [6, 5, 1, 3]\n"
     ]
    }
   ],
   "source": [
    "answer = 0\n",
    "\n",
    "val = int(sum(queue1 + queue2) / 2)\n",
    "\n",
    "while(sum(queue1) != val):\n",
    "    if sum(queue1) > val:\n",
    "        tmp = queue1.pop(0)\n",
    "        queue2.append(tmp)\n",
    "        answer += 1\n",
    "    elif sum(queue2) > val:\n",
    "        tmp = queue2.pop(0)\n",
    "        queue1.append(tmp)\n",
    "        answer += 1\n",
    "    print('queue1 : ' , queue1)\n",
    "    print('queue2 : ' , queue2)"
   ]
  },
  {
   "cell_type": "code",
   "execution_count": 23,
   "id": "815833df",
   "metadata": {},
   "outputs": [
    {
     "name": "stdout",
     "output_type": "stream",
     "text": [
      "5\n"
     ]
    }
   ],
   "source": [
    "max_val = max(queue1+queue2)\n",
    "print(max_val)"
   ]
  },
  {
   "cell_type": "code",
   "execution_count": null,
   "id": "80a9da05",
   "metadata": {},
   "outputs": [],
   "source": []
  }
 ],
 "metadata": {
  "kernelspec": {
   "display_name": "Python 3 (ipykernel)",
   "language": "python",
   "name": "python3"
  },
  "language_info": {
   "codemirror_mode": {
    "name": "ipython",
    "version": 3
   },
   "file_extension": ".py",
   "mimetype": "text/x-python",
   "name": "python",
   "nbconvert_exporter": "python",
   "pygments_lexer": "ipython3",
   "version": "3.8.15"
  }
 },
 "nbformat": 4,
 "nbformat_minor": 5
}
