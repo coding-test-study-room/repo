{
 "cells": [
  {
   "cell_type": "code",
   "execution_count": 72,
   "id": "ee774bc8",
   "metadata": {},
   "outputs": [],
   "source": [
    "record = [\"Enter uid1234 Muzi\", \"Enter uid4567 Prodo\",\"Leave uid1234\",\"Enter uid1234 Prodo\",\"Change uid4567 Ryan\"]"
   ]
  },
  {
   "cell_type": "code",
   "execution_count": 74,
   "id": "d3d0fb74",
   "metadata": {},
   "outputs": [],
   "source": [
    "def solution(record):\n",
    "    answer = []\n",
    "    user_id = []\n",
    "    for i in record:\n",
    "        if 'Enter' in i:\n",
    "            a = i.split(' ')\n",
    "            user_id.append([a[1],''])\n",
    "    \n",
    "    user_dict = dict(user_id)\n",
    "    \n",
    "    for i in range(len(record) - 1,0,-1):\n",
    "        tmp = record[i].split(' ')\n",
    "        if len(tmp) == 3 and user_dict[tmp[1]] == '':\n",
    "            user_dict[tmp[1]] = tmp[2]\n",
    "\n",
    "    for i in record:\n",
    "        tmp = i.split(' ')\n",
    "        if len(tmp) == 3 and tmp[0] == 'Enter':\n",
    "            answer.append(user_dict[tmp[1]] + \"님이 들어왔습니다.\")\n",
    "        elif len(tmp) == 2 and tmp[0] == 'Leave':\n",
    "            answer.append(user_dict[tmp[1]] + \"님이 나갔습니다.\")\n",
    "    return answer"
   ]
  },
  {
   "cell_type": "code",
   "execution_count": 75,
   "id": "3b477d3f",
   "metadata": {},
   "outputs": [
    {
     "data": {
      "text/plain": [
       "['Prodo님이 들어왔습니다.', 'Ryan님이 들어왔습니다.', 'Prodo님이 나갔습니다.', 'Prodo님이 들어왔습니다.']"
      ]
     },
     "execution_count": 75,
     "metadata": {},
     "output_type": "execute_result"
    }
   ],
   "source": [
    "solution(record)"
   ]
  },
  {
   "cell_type": "code",
   "execution_count": 76,
   "id": "5c296c38",
   "metadata": {},
   "outputs": [
    {
     "data": {
      "text/plain": [
       "['Prodo님이 들어왔습니다.', 'Ryan님이 들어왔습니다.', 'Prodo님이 나갔습니다.', 'Prodo님이 들어왔습니다.']"
      ]
     },
     "execution_count": 76,
     "metadata": {},
     "output_type": "execute_result"
    }
   ],
   "source": [
    "[\"Prodo님이 들어왔습니다.\", \"Ryan님이 들어왔습니다.\", \"Prodo님이 나갔습니다.\", \"Prodo님이 들어왔습니다.\"]\n",
    "['Prodo님이 들어왔습니다.', 'Ryan님이 들어왔습니다.', 'Prodo님이 나갔습니다.', 'Prodo님이 들어왔습니다.']"
   ]
  },
  {
   "cell_type": "code",
   "execution_count": 77,
   "id": "732bad30",
   "metadata": {},
   "outputs": [
    {
     "name": "stdout",
     "output_type": "stream",
     "text": [
      "Prodo님이 들어왔습니다.\n",
      "Ryan님이 들어왔습니다.\n",
      "Prodo님이 나갔습니다.\n",
      "Prodo님이 들어왔습니다.\n"
     ]
    }
   ],
   "source": [
    "record = [\"Enter uid1234 Muzi\", \"Enter uid4567 Prodo\",\"Leave uid1234\",\"Enter uid1234 Prodo\",\"Change uid4567 Ryan\"]\n",
    "\n",
    "user_id = []\n",
    "for i in record:\n",
    "    if 'Enter' in i:\n",
    "        a = i.split(' ')\n",
    "        user_id.append([a[1],''])\n",
    "        \n",
    "for i in range(len(record) - 1,0,-1):\n",
    "    tmp = record[i].split(' ')\n",
    "    if len(tmp) == 3 and user_dict[tmp[1]] == '':\n",
    "        user_dict[tmp[1]] = tmp[2]\n",
    "\n",
    "for i in record:\n",
    "    tmp = i.split(' ')\n",
    "    if len(tmp) == 3 and tmp[0] == 'Enter':\n",
    "        print(user_dict[tmp[1]] + '님이 들어왔습니다.')\n",
    "    elif len(tmp) == 2 and tmp[0] == 'Leave':\n",
    "        print(user_dict[tmp[1]] + '님이 나갔습니다.')"
   ]
  },
  {
   "cell_type": "code",
   "execution_count": 78,
   "id": "0bcd9008",
   "metadata": {},
   "outputs": [
    {
     "name": "stdout",
     "output_type": "stream",
     "text": [
      "Prodo님이 들어왔습니다.\n",
      "Ryan님이 들어왔습니다.\n",
      "Prodo님이 나갔습니다.\n",
      "Prodo님이 들어왔습니다.\n"
     ]
    }
   ],
   "source": [
    "for i in range(len(record) - 1,0,-1):\n",
    "    tmp = record[i].split(' ')\n",
    "    if len(tmp) == 3 and user_dict[tmp[1]] == '':\n",
    "        user_dict[tmp[1]] = tmp[2]\n",
    "\n",
    "for i in record:\n",
    "    tmp = i.split(' ')\n",
    "    if len(tmp) == 3 and tmp[0] == 'Enter':\n",
    "        print(user_dict[tmp[1]] + '님이 들어왔습니다.')\n",
    "    elif len(tmp) == 2 and tmp[0] == 'Leave':\n",
    "        print(user_dict[tmp[1]] + '님이 나갔습니다.')"
   ]
  },
  {
   "cell_type": "code",
   "execution_count": 62,
   "id": "fb0d0eb9",
   "metadata": {},
   "outputs": [
    {
     "data": {
      "text/plain": [
       "'Ryan'"
      ]
     },
     "execution_count": 62,
     "metadata": {},
     "output_type": "execute_result"
    }
   ],
   "source": [
    "user_dict[tmp[1]]"
   ]
  },
  {
   "cell_type": "code",
   "execution_count": 70,
   "id": "edac745a",
   "metadata": {},
   "outputs": [
    {
     "name": "stdout",
     "output_type": "stream",
     "text": [
      "Prodo님이 들어왔습니다.\n",
      "Ryan님이 들어왔습니다.\n",
      "Prodo님이 나갔습니다.\n",
      "Prodo님이 들어왔습니다.\n"
     ]
    }
   ],
   "source": [
    "for i in record:\n",
    "    tmp = i.split(' ')\n",
    "    if len(tmp) == 3 and tmp[0] == 'Enter':\n",
    "        print(user_dict[tmp[1]] + '님이 들어왔습니다.')\n",
    "    elif len(tmp) == 2 and tmp[0] == 'Leave':\n",
    "        print(user_dict[tmp[1]] + '님이 나갔습니다.')"
   ]
  },
  {
   "cell_type": "code",
   "execution_count": 64,
   "id": "3d78ae3d",
   "metadata": {},
   "outputs": [],
   "source": [
    "tmp = record[0].split(' ')"
   ]
  },
  {
   "cell_type": "code",
   "execution_count": 66,
   "id": "be42ff85",
   "metadata": {},
   "outputs": [
    {
     "data": {
      "text/plain": [
       "'uid1234'"
      ]
     },
     "execution_count": 66,
     "metadata": {},
     "output_type": "execute_result"
    }
   ],
   "source": [
    "tmp[1]"
   ]
  },
  {
   "cell_type": "code",
   "execution_count": null,
   "id": "cab6e71e",
   "metadata": {},
   "outputs": [],
   "source": []
  }
 ],
 "metadata": {
  "kernelspec": {
   "display_name": "Python 3 (ipykernel)",
   "language": "python",
   "name": "python3"
  },
  "language_info": {
   "codemirror_mode": {
    "name": "ipython",
    "version": 3
   },
   "file_extension": ".py",
   "mimetype": "text/x-python",
   "name": "python",
   "nbconvert_exporter": "python",
   "pygments_lexer": "ipython3",
   "version": "3.8.15"
  }
 },
 "nbformat": 4,
 "nbformat_minor": 5
}
