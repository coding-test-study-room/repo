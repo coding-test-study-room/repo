{
 "cells": [
  {
   "cell_type": "code",
   "execution_count": 182,
   "id": "2692160e",
   "metadata": {},
   "outputs": [],
   "source": [
    "users = [[40, 10000], [25, 10000]]\n",
    "emoticons = [7000, 9000]"
   ]
  },
  {
   "cell_type": "code",
   "execution_count": 183,
   "id": "9c1b5596",
   "metadata": {},
   "outputs": [],
   "source": [
    "from itertools import product\n",
    "\n",
    "def solution(users, emoticons):\n",
    "    \n",
    "    # 이모티콘별 할인율 조합 계산\n",
    "    discount_percent = [10,20,30,40]\n",
    "    discount_list = []\n",
    "    for i in emoticons:\n",
    "        discount_list.append(discount_percent)\n",
    "\n",
    "    discount = list(product(*discount_list))\n",
    "    \n",
    "    \n",
    "    answer = [0,0]\n",
    "\n",
    "    for i in discount:\n",
    "        tmp = [0,0]\n",
    "        subscribe = 0\n",
    "\n",
    "        for j in range(len(users)):\n",
    "            price = 0\n",
    "\n",
    "            for k in range(len(emoticons)):\n",
    "                # 할인율이 User의 비율보다 높을경우 구매\n",
    "                if i[k] >= users[j][0]:\n",
    "                    price += int(emoticons[k] * (100 - i[k]) / 100)\n",
    "            # 이모티콘의 구매가격이 정해진 가격보다 높다면 구독 후 가격 초기화\n",
    "            if price >= users[j][1]:\n",
    "                tmp[0] += 1\n",
    "                price = 0\n",
    "            tmp[1] += price\n",
    "        if answer[0] < tmp[0]:\n",
    "            answer[0] = tmp[0]\n",
    "            answer[1] = tmp[1]\n",
    "\n",
    "        elif answer[0] == tmp[0] and answer[1] < tmp[1]:\n",
    "            answer[0] = tmp[0]\n",
    "            answer[1] = tmp[1]\n",
    "        \n",
    "    return answer"
   ]
  },
  {
   "cell_type": "code",
   "execution_count": 184,
   "id": "2bc720f9",
   "metadata": {},
   "outputs": [
    {
     "data": {
      "text/plain": [
       "[1, 5400]"
      ]
     },
     "execution_count": 184,
     "metadata": {},
     "output_type": "execute_result"
    }
   ],
   "source": [
    "solution(users, emoticons)"
   ]
  },
  {
   "cell_type": "code",
   "execution_count": null,
   "id": "14484832",
   "metadata": {},
   "outputs": [],
   "source": []
  }
 ],
 "metadata": {
  "kernelspec": {
   "display_name": "Python 3 (ipykernel)",
   "language": "python",
   "name": "python3"
  },
  "language_info": {
   "codemirror_mode": {
    "name": "ipython",
    "version": 3
   },
   "file_extension": ".py",
   "mimetype": "text/x-python",
   "name": "python",
   "nbconvert_exporter": "python",
   "pygments_lexer": "ipython3",
   "version": "3.8.15"
  }
 },
 "nbformat": 4,
 "nbformat_minor": 5
}
