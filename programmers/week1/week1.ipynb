{
 "cells": [
  {
   "cell_type": "code",
   "execution_count": 238,
   "id": "0547796c",
   "metadata": {},
   "outputs": [
    {
     "name": "stdout",
     "output_type": "stream",
     "text": [
      "[11, 1, 27, 15]\n",
      "[20, 15, 2, 5, 15, 18, 14, 15, 20, 27, 29, 31, 36, 30, 32, 34]\n"
     ]
    }
   ],
   "source": [
    "def solution(msg):\n",
    "    answer = []\n",
    "    a_dict = [chr(x) for x in range(65, 91)]\n",
    "    a_dict.insert(0,0)\n",
    "    i = 0\n",
    "    j = 0\n",
    "    while(1):\n",
    "        j += 1\n",
    "        if j == len(msg):\n",
    "            answer.append(a_dict.index(msg[i:j]))\n",
    "            return answer\n",
    "        \n",
    "        if msg[i:j+1] not in a_dict:\n",
    "            a_dict.append(msg[i:j+1])\n",
    "            answer.append(a_dict.index(msg[i:j]))\n",
    "            i = j\n",
    "    return answer\n",
    "            \n",
    "print(solution('KAKAO'))\n",
    "print(solution('TOBEORNOTTOBEORTOBEORNOT'))"
   ]
  },
  {
   "cell_type": "code",
   "execution_count": 237,
   "id": "e1c708bf",
   "metadata": {},
   "outputs": [
    {
     "name": "stdout",
     "output_type": "stream",
     "text": [
      "[14600, 34400, 5000]\n"
     ]
    }
   ],
   "source": [
    "records = [\"05:34 5961 IN\", \"06:00 0000 IN\", \"06:34 0000 OUT\", \"07:59 5961 OUT\", \"07:59 0148 IN\", \"18:59 0000 IN\", \"19:09 0148 OUT\"\n",
    "           , \"22:59 5961 IN\", \"23:00 5961 OUT\"]\n",
    "fees = [180, 5000, 10, 600]\n",
    "\n",
    "import math\n",
    "def solution(fees, records):\n",
    "    answer = []\n",
    "    count_car = 0\n",
    "    car_num = []\n",
    "    for i in range(len(records)):\n",
    "        count_car += records[i].count('IN')\n",
    "        if records[i].count('IN') == 1 :\n",
    "            car_num.append(records[i][6:10])\n",
    "\n",
    "    total_records = [[0] * 4 for i in range(count_car)]\n",
    "    records.sort()\n",
    "\n",
    "    j = 0\n",
    "    for i in range(len(records)):\n",
    "        if records[i].count('IN') == 1 :\n",
    "            total_records[j][0] = records[i][6:10]\n",
    "            in_time = records[i][0:5].split(\":\")\n",
    "            total_records[j][1] = int(in_time[0])*60 + int(in_time[1])\n",
    "\n",
    "            for k in range(i+1,len(records)):\n",
    "                if records[k].count('OUT') == 1 and total_records[j][0] ==  records[k][6:10]:\n",
    "                    out_time = records[k][0:5].split(\":\")\n",
    "                    total_records[j][2] = int(out_time[0])*60 + int(out_time[1])\n",
    "                    break\n",
    "            if total_records[j][2] == 0:\n",
    "                total_records[j][2] = 23*60+59\n",
    "            j += 1\n",
    "        if j == count_car:\n",
    "            break\n",
    "\n",
    "    count_car = len(list(set(car_num)))\n",
    "    total_records2 = [[0] * 3 for i in range(count_car)]\n",
    "\n",
    "    car_list = list(set(car_num))\n",
    "    car_list.sort()\n",
    "\n",
    "    for i in range(count_car):\n",
    "        total_records2[i][0] = car_list[i]\n",
    "\n",
    "        park_time = 0\n",
    "        for j in range(len(total_records)):\n",
    "            if total_records2[i][0] == total_records[j][0]:\n",
    "                park_time += total_records[j][2] - total_records[j][1]\n",
    "        total_records2[i][1] = park_time\n",
    "\n",
    "    for i in range(len(total_records2)):\n",
    "        if total_records2[i][1] > fees[0]:\n",
    "            total_records2[i][2] = fees[1] + math.ceil((total_records2[i][1]-fees[0])/fees[2])*fees[3]\n",
    "        else:\n",
    "            total_records2[i][2] = fees[1]\n",
    "    for i in range(len(total_records2)):\n",
    "        answer.append(total_records2[i][2])\n",
    "    \n",
    "    return answer\n",
    "\n",
    "print(solution(fees, records))"
   ]
  },
  {
   "cell_type": "code",
   "execution_count": null,
   "id": "7d4e5587",
   "metadata": {},
   "outputs": [],
   "source": []
  },
  {
   "cell_type": "code",
   "execution_count": null,
   "id": "a369c9ac",
   "metadata": {},
   "outputs": [],
   "source": []
  },
  {
   "cell_type": "code",
   "execution_count": null,
   "id": "bf3a0680",
   "metadata": {},
   "outputs": [],
   "source": [
    "def solution(n, k, enemy):\n",
    "    answer = 0\n",
    "    return answer"
   ]
  }
 ],
 "metadata": {
  "kernelspec": {
   "display_name": "Python 3 (ipykernel)",
   "language": "python",
   "name": "python3"
  },
  "language_info": {
   "codemirror_mode": {
    "name": "ipython",
    "version": 3
   },
   "file_extension": ".py",
   "mimetype": "text/x-python",
   "name": "python",
   "nbconvert_exporter": "python",
   "pygments_lexer": "ipython3",
   "version": "3.8.15"
  }
 },
 "nbformat": 4,
 "nbformat_minor": 5
}
